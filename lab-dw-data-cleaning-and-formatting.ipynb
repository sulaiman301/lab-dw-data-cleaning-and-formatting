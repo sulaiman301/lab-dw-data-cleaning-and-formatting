{
  "cells": [
    {
      "cell_type": "markdown",
      "id": "25d7736c-ba17-4aff-b6bb-66eba20fbf4e",
      "metadata": {
        "id": "25d7736c-ba17-4aff-b6bb-66eba20fbf4e"
      },
      "source": [
        "# Lab | Data Cleaning and Formatting"
      ]
    },
    {
      "cell_type": "markdown",
      "id": "d1973e9e-8be6-4039-b70e-d73ee0d94c99",
      "metadata": {
        "id": "d1973e9e-8be6-4039-b70e-d73ee0d94c99"
      },
      "source": [
        "In this lab, we will be working with the customer data from an insurance company, which can be found in the CSV file located at the following link: https://raw.githubusercontent.com/data-bootcamp-v4/data/main/file1.csv\n"
      ]
    },
    {
      "cell_type": "code",
      "execution_count": 1,
      "id": "798a033e",
      "metadata": {},
      "outputs": [
        {
          "name": "stdout",
          "output_type": "stream",
          "text": [
            "  Customer          ST GENDER             Education Customer Lifetime Value  \\\n",
            "0  RB50392  Washington    NaN                Master                     NaN   \n",
            "1  QZ44356     Arizona      F              Bachelor              697953.59%   \n",
            "2  AI49188      Nevada      F              Bachelor             1288743.17%   \n",
            "3  WW63253  California      M              Bachelor              764586.18%   \n",
            "4  GA49547  Washington      M  High School or Below              536307.65%   \n",
            "\n",
            "    Income  Monthly Premium Auto Number of Open Complaints     Policy Type  \\\n",
            "0      0.0                1000.0                    1/0/00   Personal Auto   \n",
            "1      0.0                  94.0                    1/0/00   Personal Auto   \n",
            "2  48767.0                 108.0                    1/0/00   Personal Auto   \n",
            "3      0.0                 106.0                    1/0/00  Corporate Auto   \n",
            "4  36357.0                  68.0                    1/0/00   Personal Auto   \n",
            "\n",
            "   Vehicle Class  Total Claim Amount  \n",
            "0  Four-Door Car            2.704934  \n",
            "1  Four-Door Car         1131.464935  \n",
            "2   Two-Door Car          566.472247  \n",
            "3            SUV          529.881344  \n",
            "4  Four-Door Car           17.269323  \n"
          ]
        }
      ],
      "source": [
        "import pandas as pd\n",
        "\n",
        "# URL of the CSV file\n",
        "url = 'https://raw.githubusercontent.com/data-bootcamp-v4/data/main/file1.csv'\n",
        "\n",
        "# Read the CSV file into a DataFrame\n",
        "df_customers = pd.read_csv(url)\n",
        "\n",
        "# Display the first few rows of the DataFrame\n",
        "print(df_customers.head())\n"
      ]
    },
    {
      "cell_type": "markdown",
      "id": "31b8a9e7-7db9-4604-991b-ef6771603e57",
      "metadata": {
        "id": "31b8a9e7-7db9-4604-991b-ef6771603e57"
      },
      "source": [
        "# Challenge 1: Data Cleaning and Formatting"
      ]
    },
    {
      "cell_type": "markdown",
      "id": "81553f19-9f2c-484b-8940-520aff884022",
      "metadata": {
        "id": "81553f19-9f2c-484b-8940-520aff884022"
      },
      "source": [
        "## Exercise 1: Cleaning Column Names"
      ]
    },
    {
      "cell_type": "markdown",
      "id": "34a929f4-1be4-4fa8-adda-42ffd920be90",
      "metadata": {
        "id": "34a929f4-1be4-4fa8-adda-42ffd920be90"
      },
      "source": [
        "To ensure consistency and ease of use, standardize the column names of the dataframe. Start by taking a first look at the dataframe and identifying any column names that need to be modified. Use appropriate naming conventions and make sure that column names are descriptive and informative.\n",
        "\n",
        "*Hint*:\n",
        "- *Column names should be in lower case*\n",
        "- *White spaces in column names should be replaced by `_`*\n",
        "- *`st` could be replaced for `state`*"
      ]
    },
    {
      "cell_type": "code",
      "execution_count": 2,
      "id": "5810735c-8056-4442-bbf2-dda38d3e284a",
      "metadata": {
        "id": "5810735c-8056-4442-bbf2-dda38d3e284a"
      },
      "outputs": [
        {
          "name": "stdout",
          "output_type": "stream",
          "text": [
            "Original column names:\n",
            "Index(['Customer', 'ST', 'GENDER', 'Education', 'Customer Lifetime Value',\n",
            "       'Income', 'Monthly Premium Auto', 'Number of Open Complaints',\n",
            "       'Policy Type', 'Vehicle Class', 'Total Claim Amount'],\n",
            "      dtype='object')\n",
            "\n",
            "Standardized column names:\n",
            "Index(['custateomer', 'state', 'gender', 'education',\n",
            "       'custateomer_lifetime_value', 'income', 'monthly_premium_auto',\n",
            "       'number_of_open_complaints', 'policy_type', 'vehicle_class',\n",
            "       'total_claim_amount'],\n",
            "      dtype='object')\n"
          ]
        }
      ],
      "source": [
        "import pandas as pd\n",
        "\n",
        "# URL of the CSV file\n",
        "url = 'https://raw.githubusercontent.com/data-bootcamp-v4/data/main/file1.csv'\n",
        "\n",
        "# Read the CSV file into a DataFrame\n",
        "df_customers = pd.read_csv(url)\n",
        "\n",
        "# Display the original column names\n",
        "print(\"Original column names:\")\n",
        "print(df_customers.columns)\n",
        "\n",
        "# Standardize the column names\n",
        "df_customers.columns = df_customers.columns.str.lower().str.replace(' ', '_').str.replace('st', 'state')\n",
        "\n",
        "# Display the standardized column names\n",
        "print(\"\\nStandardized column names:\")\n",
        "print(df_customers.columns)\n"
      ]
    },
    {
      "cell_type": "code",
      "execution_count": 7,
      "id": "03fe33e0",
      "metadata": {},
      "outputs": [
        {
          "name": "stdout",
          "output_type": "stream",
          "text": [
            "\n",
            "Standardized column names:\n",
            "Index(['customer', 'st', 'gender', 'education', 'customer lifetime value',\n",
            "       'income', 'monthly premium auto', 'number of open complaints',\n",
            "       'policy type', 'vehicle class', 'total claim amount'],\n",
            "      dtype='object')\n"
          ]
        }
      ],
      "source": [
        "\n",
        "# Standardize the column names to lower case\n",
        "df_customers.columns = df_customers.columns.str.lower()\n",
        "\n",
        "# Display the standardized column names\n",
        "print(\"\\nStandardized column names:\")\n",
        "print(df_customers.columns)"
      ]
    },
    {
      "cell_type": "code",
      "execution_count": 9,
      "id": "18baac5a",
      "metadata": {},
      "outputs": [
        {
          "name": "stdout",
          "output_type": "stream",
          "text": [
            "Index(['customer', 'st', 'gender', 'education', 'customer_lifetime_value',\n",
            "       'income', 'monthly_premium_auto', 'number_of_open_complaints',\n",
            "       'policy_type', 'vehicle_class', 'total_claim_amount'],\n",
            "      dtype='object')\n"
          ]
        }
      ],
      "source": [
        "#Standardize the column names: lower case and replace white spaces with underscores\n",
        "df_customers.columns = df_customers.columns.str.lower().str.replace(' ', '_')\n",
        "print(df_customers.columns)"
      ]
    },
    {
      "cell_type": "code",
      "execution_count": 10,
      "id": "3b89ce25",
      "metadata": {},
      "outputs": [
        {
          "name": "stdout",
          "output_type": "stream",
          "text": [
            "\n",
            "Standardized column names:\n",
            "Index(['custateomer', 'state', 'gender', 'education',\n",
            "       'custateomer_lifetime_value', 'income', 'monthly_premium_auto',\n",
            "       'number_of_open_complaints', 'policy_type', 'vehicle_class',\n",
            "       'total_claim_amount'],\n",
            "      dtype='object')\n"
          ]
        }
      ],
      "source": [
        "#Standardize the column names: lower case, replace white spaces with underscores, and replace 'st' with 'state'\n",
        "df_customers.columns = df_customers.columns.str.lower().str.replace(' ', '_').str.replace('st', 'state')\n",
        "\n",
        "# Display the standardized column names\n",
        "print(\"\\nStandardized column names:\")\n",
        "print(df_customers.columns)"
      ]
    },
    {
      "cell_type": "markdown",
      "id": "9cb501ec-36ff-4589-b872-6252bb150316",
      "metadata": {
        "id": "9cb501ec-36ff-4589-b872-6252bb150316"
      },
      "source": [
        "## Exercise 2: Cleaning invalid Values"
      ]
    },
    {
      "cell_type": "markdown",
      "id": "771fdcf3-8e20-4b06-9c24-3a93ba2b0909",
      "metadata": {
        "id": "771fdcf3-8e20-4b06-9c24-3a93ba2b0909"
      },
      "source": [
        "2. Replace state abbreviations with full names\n",
        "state_mapping = {\n",
        "    'AZ': 'Arizona', 'Cali': 'California', 'WA': 'Washington'\n",
        "}\n",
        "df_customers['state'] = df_customers['state'].replace(state_mapping)\n",
        "\n",
        "*Hint*:\n",
        "- *Gender column contains various inconsistent values such as \"F\", \"M\", \"Femal\", \"Male\", \"female\", which need to be standardized, for example, to \"M\" and \"F\".*\n",
        "- *State abbreviations be can replaced with its full name, for example \"AZ\": \"Arizona\", \"Cali\": \"California\", \"WA\": \"Washington\"*\n",
        "- *In education, \"Bachelors\" could be replaced by \"Bachelor\"*\n",
        "- *In Customer Lifetime Value, delete the `%` character*\n",
        "- *In vehicle class, \"Sports Car\", \"Luxury SUV\" and \"Luxury Car\" could be replaced by \"Luxury\"*"
      ]
    },
    {
      "cell_type": "code",
      "execution_count": 3,
      "id": "3f8ee5cb-50ab-48af-8a9f-9a389804033c",
      "metadata": {
        "id": "3f8ee5cb-50ab-48af-8a9f-9a389804033c"
      },
      "outputs": [
        {
          "name": "stdout",
          "output_type": "stream",
          "text": [
            "Original DataFrame:\n",
            "  Customer          ST GENDER             Education Customer Lifetime Value  \\\n",
            "0  RB50392  Washington    NaN                Master                     NaN   \n",
            "1  QZ44356     Arizona      F              Bachelor              697953.59%   \n",
            "2  AI49188      Nevada      F              Bachelor             1288743.17%   \n",
            "3  WW63253  California      M              Bachelor              764586.18%   \n",
            "4  GA49547  Washington      M  High School or Below              536307.65%   \n",
            "\n",
            "    Income  Monthly Premium Auto Number of Open Complaints     Policy Type  \\\n",
            "0      0.0                1000.0                    1/0/00   Personal Auto   \n",
            "1      0.0                  94.0                    1/0/00   Personal Auto   \n",
            "2  48767.0                 108.0                    1/0/00   Personal Auto   \n",
            "3      0.0                 106.0                    1/0/00  Corporate Auto   \n",
            "4  36357.0                  68.0                    1/0/00   Personal Auto   \n",
            "\n",
            "   Vehicle Class  Total Claim Amount  \n",
            "0  Four-Door Car            2.704934  \n",
            "1  Four-Door Car         1131.464935  \n",
            "2   Two-Door Car          566.472247  \n",
            "3            SUV          529.881344  \n",
            "4  Four-Door Car           17.269323  \n"
          ]
        },
        {
          "ename": "KeyError",
          "evalue": "'gender'",
          "output_type": "error",
          "traceback": [
            "\u001b[1;31m---------------------------------------------------------------------------\u001b[0m",
            "\u001b[1;31mKeyError\u001b[0m                                  Traceback (most recent call last)",
            "\u001b[1;32mc:\\Users\\User\\anaconda3\\anaconda 4\\lib\\site-packages\\pandas\\core\\indexes\\base.py\u001b[0m in \u001b[0;36mget_loc\u001b[1;34m(self, key, method, tolerance)\u001b[0m\n\u001b[0;32m   3628\u001b[0m             \u001b[1;32mtry\u001b[0m\u001b[1;33m:\u001b[0m\u001b[1;33m\u001b[0m\u001b[1;33m\u001b[0m\u001b[0m\n\u001b[1;32m-> 3629\u001b[1;33m                 \u001b[1;32mreturn\u001b[0m \u001b[0mself\u001b[0m\u001b[1;33m.\u001b[0m\u001b[0m_engine\u001b[0m\u001b[1;33m.\u001b[0m\u001b[0mget_loc\u001b[0m\u001b[1;33m(\u001b[0m\u001b[0mcasted_key\u001b[0m\u001b[1;33m)\u001b[0m\u001b[1;33m\u001b[0m\u001b[1;33m\u001b[0m\u001b[0m\n\u001b[0m\u001b[0;32m   3630\u001b[0m             \u001b[1;32mexcept\u001b[0m \u001b[0mKeyError\u001b[0m \u001b[1;32mas\u001b[0m \u001b[0merr\u001b[0m\u001b[1;33m:\u001b[0m\u001b[1;33m\u001b[0m\u001b[1;33m\u001b[0m\u001b[0m\n",
            "\u001b[1;32mc:\\Users\\User\\anaconda3\\anaconda 4\\lib\\site-packages\\pandas\\_libs\\index.pyx\u001b[0m in \u001b[0;36mpandas._libs.index.IndexEngine.get_loc\u001b[1;34m()\u001b[0m\n",
            "\u001b[1;32mc:\\Users\\User\\anaconda3\\anaconda 4\\lib\\site-packages\\pandas\\_libs\\index.pyx\u001b[0m in \u001b[0;36mpandas._libs.index.IndexEngine.get_loc\u001b[1;34m()\u001b[0m\n",
            "\u001b[1;32mpandas\\_libs\\hashtable_class_helper.pxi\u001b[0m in \u001b[0;36mpandas._libs.hashtable.PyObjectHashTable.get_item\u001b[1;34m()\u001b[0m\n",
            "\u001b[1;32mpandas\\_libs\\hashtable_class_helper.pxi\u001b[0m in \u001b[0;36mpandas._libs.hashtable.PyObjectHashTable.get_item\u001b[1;34m()\u001b[0m\n",
            "\u001b[1;31mKeyError\u001b[0m: 'gender'",
            "\nThe above exception was the direct cause of the following exception:\n",
            "\u001b[1;31mKeyError\u001b[0m                                  Traceback (most recent call last)",
            "\u001b[1;32m~\\AppData\\Local\\Temp\\ipykernel_3656\\1688712262.py\u001b[0m in \u001b[0;36m<module>\u001b[1;34m\u001b[0m\n\u001b[0;32m     12\u001b[0m \u001b[1;33m\u001b[0m\u001b[0m\n\u001b[0;32m     13\u001b[0m \u001b[1;31m# 1. Standardize the 'gender' column\u001b[0m\u001b[1;33m\u001b[0m\u001b[1;33m\u001b[0m\u001b[0m\n\u001b[1;32m---> 14\u001b[1;33m df_customers['gender'] = df_customers['gender'].str.strip().str.lower().replace({\n\u001b[0m\u001b[0;32m     15\u001b[0m     \u001b[1;34m'female'\u001b[0m\u001b[1;33m:\u001b[0m \u001b[1;34m'F'\u001b[0m\u001b[1;33m,\u001b[0m \u001b[1;34m'f'\u001b[0m\u001b[1;33m:\u001b[0m \u001b[1;34m'F'\u001b[0m\u001b[1;33m,\u001b[0m \u001b[1;34m'male'\u001b[0m\u001b[1;33m:\u001b[0m \u001b[1;34m'M'\u001b[0m\u001b[1;33m,\u001b[0m \u001b[1;34m'm'\u001b[0m\u001b[1;33m:\u001b[0m \u001b[1;34m'M'\u001b[0m\u001b[1;33m,\u001b[0m \u001b[1;34m'femal'\u001b[0m\u001b[1;33m:\u001b[0m \u001b[1;34m'F'\u001b[0m\u001b[1;33m\u001b[0m\u001b[1;33m\u001b[0m\u001b[0m\n\u001b[0;32m     16\u001b[0m })\n",
            "\u001b[1;32mc:\\Users\\User\\anaconda3\\anaconda 4\\lib\\site-packages\\pandas\\core\\frame.py\u001b[0m in \u001b[0;36m__getitem__\u001b[1;34m(self, key)\u001b[0m\n\u001b[0;32m   3503\u001b[0m             \u001b[1;32mif\u001b[0m \u001b[0mself\u001b[0m\u001b[1;33m.\u001b[0m\u001b[0mcolumns\u001b[0m\u001b[1;33m.\u001b[0m\u001b[0mnlevels\u001b[0m \u001b[1;33m>\u001b[0m \u001b[1;36m1\u001b[0m\u001b[1;33m:\u001b[0m\u001b[1;33m\u001b[0m\u001b[1;33m\u001b[0m\u001b[0m\n\u001b[0;32m   3504\u001b[0m                 \u001b[1;32mreturn\u001b[0m \u001b[0mself\u001b[0m\u001b[1;33m.\u001b[0m\u001b[0m_getitem_multilevel\u001b[0m\u001b[1;33m(\u001b[0m\u001b[0mkey\u001b[0m\u001b[1;33m)\u001b[0m\u001b[1;33m\u001b[0m\u001b[1;33m\u001b[0m\u001b[0m\n\u001b[1;32m-> 3505\u001b[1;33m             \u001b[0mindexer\u001b[0m \u001b[1;33m=\u001b[0m \u001b[0mself\u001b[0m\u001b[1;33m.\u001b[0m\u001b[0mcolumns\u001b[0m\u001b[1;33m.\u001b[0m\u001b[0mget_loc\u001b[0m\u001b[1;33m(\u001b[0m\u001b[0mkey\u001b[0m\u001b[1;33m)\u001b[0m\u001b[1;33m\u001b[0m\u001b[1;33m\u001b[0m\u001b[0m\n\u001b[0m\u001b[0;32m   3506\u001b[0m             \u001b[1;32mif\u001b[0m \u001b[0mis_integer\u001b[0m\u001b[1;33m(\u001b[0m\u001b[0mindexer\u001b[0m\u001b[1;33m)\u001b[0m\u001b[1;33m:\u001b[0m\u001b[1;33m\u001b[0m\u001b[1;33m\u001b[0m\u001b[0m\n\u001b[0;32m   3507\u001b[0m                 \u001b[0mindexer\u001b[0m \u001b[1;33m=\u001b[0m \u001b[1;33m[\u001b[0m\u001b[0mindexer\u001b[0m\u001b[1;33m]\u001b[0m\u001b[1;33m\u001b[0m\u001b[1;33m\u001b[0m\u001b[0m\n",
            "\u001b[1;32mc:\\Users\\User\\anaconda3\\anaconda 4\\lib\\site-packages\\pandas\\core\\indexes\\base.py\u001b[0m in \u001b[0;36mget_loc\u001b[1;34m(self, key, method, tolerance)\u001b[0m\n\u001b[0;32m   3629\u001b[0m                 \u001b[1;32mreturn\u001b[0m \u001b[0mself\u001b[0m\u001b[1;33m.\u001b[0m\u001b[0m_engine\u001b[0m\u001b[1;33m.\u001b[0m\u001b[0mget_loc\u001b[0m\u001b[1;33m(\u001b[0m\u001b[0mcasted_key\u001b[0m\u001b[1;33m)\u001b[0m\u001b[1;33m\u001b[0m\u001b[1;33m\u001b[0m\u001b[0m\n\u001b[0;32m   3630\u001b[0m             \u001b[1;32mexcept\u001b[0m \u001b[0mKeyError\u001b[0m \u001b[1;32mas\u001b[0m \u001b[0merr\u001b[0m\u001b[1;33m:\u001b[0m\u001b[1;33m\u001b[0m\u001b[1;33m\u001b[0m\u001b[0m\n\u001b[1;32m-> 3631\u001b[1;33m                 \u001b[1;32mraise\u001b[0m \u001b[0mKeyError\u001b[0m\u001b[1;33m(\u001b[0m\u001b[0mkey\u001b[0m\u001b[1;33m)\u001b[0m \u001b[1;32mfrom\u001b[0m \u001b[0merr\u001b[0m\u001b[1;33m\u001b[0m\u001b[1;33m\u001b[0m\u001b[0m\n\u001b[0m\u001b[0;32m   3632\u001b[0m             \u001b[1;32mexcept\u001b[0m \u001b[0mTypeError\u001b[0m\u001b[1;33m:\u001b[0m\u001b[1;33m\u001b[0m\u001b[1;33m\u001b[0m\u001b[0m\n\u001b[0;32m   3633\u001b[0m                 \u001b[1;31m# If we have a listlike key, _check_indexing_error will raise\u001b[0m\u001b[1;33m\u001b[0m\u001b[1;33m\u001b[0m\u001b[0m\n",
            "\u001b[1;31mKeyError\u001b[0m: 'gender'"
          ]
        }
      ],
      "source": [
        "import pandas as pd\n",
        "\n",
        "# URL of the CSV file\n",
        "url = 'https://raw.githubusercontent.com/data-bootcamp-v4/data/main/file1.csv'\n",
        "\n",
        "# Read the CSV file into a DataFrame\n",
        "df_customers = pd.read_csv(url)\n",
        "\n",
        "# Display the original DataFrame\n",
        "print(\"Original DataFrame:\")\n",
        "print(df_customers.head())\n",
        "\n",
        "# 1. Standardize the 'gender' column\n",
        "df_customers['gender'] = df_customers['gender'].str.strip().str.lower().replace({\n",
        "    'female': 'F', 'f': 'F', 'male': 'M', 'm': 'M', 'femal': 'F'\n",
        "})\n",
        "\n",
        "# 2. Replace state abbreviations with full names\n",
        "state_mapping = {\n",
        "    'AZ': 'Arizona', 'Cali': 'California', 'WA': 'Washington'\n",
        "}\n",
        "df_customers['state'] = df_customers['state'].replace(state_mapping)\n",
        "\n",
        "# 3. Standardize the 'education' column\n",
        "df_customers['education'] = df_customers['education'].replace('Bachelors', 'Bachelor')\n",
        "\n",
        "# 4. Remove the '%' character from 'customer_lifetime_value'\n",
        "df_customers['customer_lifetime_value'] = df_customers['customer_lifetime_value'].str.replace('%', '').astype(float)\n",
        "\n",
        "# 5. Standardize the 'vehicle_class' column\n",
        "df_customers['vehicle_class'] = df_customers['vehicle_class'].replace({\n",
        "    'Sports Car': 'Luxury', 'Luxury SUV': 'Luxury', 'Luxury Car': 'Luxury'\n",
        "})\n",
        "\n",
        "# Display the cleaned DataFrame\n",
        "print(\"\\nCleaned DataFrame:\")\n",
        "print(df_customers.head())\n"
      ]
    },
    {
      "cell_type": "code",
      "execution_count": 11,
      "id": "5d07efd5",
      "metadata": {},
      "outputs": [
        {
          "name": "stdout",
          "output_type": "stream",
          "text": [
            "Index(['custateomer', 'state', 'gender', 'education',\n",
            "       'custateomer_lifetime_value', 'income', 'monthly_premium_auto',\n",
            "       'number_of_open_complaints', 'policy_type', 'vehicle_class',\n",
            "       'total_claim_amount'],\n",
            "      dtype='object')\n"
          ]
        }
      ],
      "source": [
        "print(df_customers.columns)\n",
        "\n"
      ]
    },
    {
      "cell_type": "code",
      "execution_count": 12,
      "id": "a460e532",
      "metadata": {},
      "outputs": [
        {
          "name": "stdout",
          "output_type": "stream",
          "text": [
            "Columns in DataFrame: Index(['name', 'gender', 'age'], dtype='object')\n",
            "Standardized 'gender' column:\n",
            " 0    F\n",
            "1    M\n",
            "2    F\n",
            "Name: gender, dtype: object\n"
          ]
        }
      ],
      "source": [
        "import pandas as pd\n",
        "\n",
        "# Example DataFrame for demonstration (replace with your actual DataFrame)\n",
        "data = {\n",
        "    'name': ['Alice', 'Bob', 'Charlie'],\n",
        "    'gender': [' Female', 'male ', 'FEMALe'],\n",
        "    'age': [25, 30, 35]\n",
        "}\n",
        "\n",
        "df_customers = pd.DataFrame(data)\n",
        "\n",
        "# Step 1: Print column names\n",
        "print(\"Columns in DataFrame:\", df_customers.columns)\n",
        "\n",
        "# Check if 'gender' column exists\n",
        "if 'gender' in df_customers.columns:\n",
        "    # Step 3: Standardize the 'gender' column\n",
        "    df_customers['gender'] = df_customers['gender'].str.strip().str.lower().replace({\n",
        "        'female': 'F', 'f': 'F', 'male': 'M', 'm': 'M', 'femal': 'F'\n",
        "    })\n",
        "    print(\"Standardized 'gender' column:\\n\", df_customers['gender'])\n",
        "else:\n",
        "    print(\"'gender' column is missing in the DataFrame.\")\n"
      ]
    },
    {
      "cell_type": "code",
      "execution_count": 4,
      "id": "ee3ac6cb",
      "metadata": {},
      "outputs": [
        {
          "name": "stdout",
          "output_type": "stream",
          "text": [
            "Index(['Customer', 'ST', 'GENDER', 'Education', 'Customer Lifetime Value',\n",
            "       'Income', 'Monthly Premium Auto', 'Number of Open Complaints',\n",
            "       'Policy Type', 'Vehicle Class', 'Total Claim Amount'],\n",
            "      dtype='object')\n"
          ]
        }
      ],
      "source": [
        "import pandas as pd\n",
        "\n",
        "# URL of the CSV file\n",
        "url = 'https://raw.githubusercontent.com/data-bootcamp-v4/data/main/file1.csv'\n",
        "\n",
        "# Read the CSV file into a DataFrame\n",
        "df_customers = pd.read_csv(url)\n",
        "\n",
        "# Display the columns in the DataFrame\n",
        "print(df_customers.columns)\n"
      ]
    },
    {
      "cell_type": "code",
      "execution_count": null,
      "metadata": {},
      "outputs": [],
      "source": []
    },
    {
      "cell_type": "markdown",
      "id": "85ff78ce-0174-4890-9db3-8048b7d7d2d0",
      "metadata": {
        "id": "85ff78ce-0174-4890-9db3-8048b7d7d2d0"
      },
      "source": [
        "## Exercise 3: Formatting data types"
      ]
    },
    {
      "cell_type": "markdown",
      "id": "b91c2cf8-79a2-4baf-9f65-ff2fb22270bd",
      "metadata": {
        "id": "b91c2cf8-79a2-4baf-9f65-ff2fb22270bd"
      },
      "source": [
        "The data types of many columns in the dataset appear to be incorrect. This could impact the accuracy of our analysis. To ensure accurate analysis, we need to correct the data types of these columns. Please update the data types of the columns as appropriate."
      ]
    },
    {
      "cell_type": "markdown",
      "id": "43e5d853-ff9e-43b2-9d92-aef2f78764f3",
      "metadata": {
        "id": "43e5d853-ff9e-43b2-9d92-aef2f78764f3"
      },
      "source": [
        "It is important to note that this exercise does not involve handling null values (NaN or None)."
      ]
    },
    {
      "cell_type": "markdown",
      "id": "329ca691-9196-4419-8969-3596746237a1",
      "metadata": {
        "id": "329ca691-9196-4419-8969-3596746237a1"
      },
      "source": [
        "*Hint*:\n",
        "- *Customer lifetime value should be numeric*\n",
        "- *Number of open complaints has an incorrect format. Look at the different values it takes with `unique()` and take the middle value. As an example, 1/5/00 should be 5. Number of open complaints is a string - remember you can use `split()` to deal with it and take the number you need. Finally, since it should be numeric, cast the column to be in its proper type.*"
      ]
    },
    {
      "cell_type": "code",
      "execution_count": 13,
      "id": "eb8f5991-73e9-405f-bf1c-6b7c589379a9",
      "metadata": {
        "id": "eb8f5991-73e9-405f-bf1c-6b7c589379a9"
      },
      "outputs": [
        {
          "name": "stdout",
          "output_type": "stream",
          "text": [
            "Customer lifetime value      int64\n",
            "Column1                      int32\n",
            "Column2                    float64\n",
            "Column3                     object\n",
            "dtype: object\n"
          ]
        }
      ],
      "source": [
        "import pandas as pd\n",
        "\n",
        "# Sample DataFrame\n",
        "data = {\n",
        "    'Customer lifetime value': ['1000', '2000', '3000'],\n",
        "    'Column1': ['1', '2', '3'],\n",
        "    'Column2': ['1.1', '2.2', '3.3'],\n",
        "    'Column3': [1, 2, 3]\n",
        "}\n",
        "\n",
        "df = pd.DataFrame(data)\n",
        "\n",
        "# Convert data types\n",
        "df['Customer lifetime value'] = pd.to_numeric(df['Customer lifetime value'], errors='coerce')\n",
        "df['Column1'] = df['Column1'].astype('int')\n",
        "df['Column2'] = df['Column2'].astype('float')\n",
        "df['Column3'] = df['Column3'].astype('str')\n",
        "\n",
        "# Verify changes\n",
        "print(df.dtypes)\n"
      ]
    },
    {
      "cell_type": "code",
      "execution_count": 14,
      "id": "acbd1366",
      "metadata": {},
      "outputs": [
        {
          "name": "stdout",
          "output_type": "stream",
          "text": [
            "Unique values: ['1/5/00' '2/3/01' '0/1/02']\n",
            "Number of open complaints     int64\n",
            "Customer lifetime value      object\n",
            "dtype: object\n",
            "   Number of open complaints Customer lifetime value\n",
            "0                          5                    1000\n",
            "1                          3                    2000\n",
            "2                          1                    3000\n"
          ]
        }
      ],
      "source": [
        "import pandas as pd\n",
        "\n",
        "# Sample DataFrame\n",
        "data = {\n",
        "    'Number of open complaints': ['1/5/00', '2/3/01', '0/1/02'],\n",
        "    'Customer lifetime value': ['1000', '2000', '3000']\n",
        "}\n",
        "\n",
        "df = pd.DataFrame(data)\n",
        "\n",
        "# Inspect unique values\n",
        "unique_values = df['Number of open complaints'].unique()\n",
        "print(\"Unique values:\", unique_values)\n",
        "\n",
        "# Extract the middle value and convert to numeric\n",
        "df['Number of open complaints'] = df['Number of open complaints'].apply(lambda x: int(x.split('/')[1]))\n",
        "\n",
        "# Verify changes\n",
        "print(df.dtypes)\n",
        "print(df)\n"
      ]
    },
    {
      "cell_type": "markdown",
      "id": "14c52e28-2d0c-4dd2-8bd5-3476e34fadc1",
      "metadata": {
        "id": "14c52e28-2d0c-4dd2-8bd5-3476e34fadc1"
      },
      "source": [
        "## Exercise 4: Dealing with Null values"
      ]
    },
    {
      "cell_type": "markdown",
      "id": "34b9a20f-7d32-4417-975e-1b4dfb0e16cd",
      "metadata": {
        "id": "34b9a20f-7d32-4417-975e-1b4dfb0e16cd"
      },
      "source": [
        "Identify any columns with null or missing values. Identify how many null values each column has. You can use the `isnull()` function in pandas to find columns with null values.\n",
        "\n",
        "Decide on a strategy for handling the null values. There are several options, including:\n",
        "\n",
        "- Drop the rows or columns with null values\n",
        "- Fill the null values with a specific value (such as the column mean or median for numerical variables, and mode for categorical variables)\n",
        "- Fill the null values with the previous or next value in the column\n",
        "- Fill the null values based on a more complex algorithm or model (note: we haven't covered this yet)\n",
        "\n",
        "Implement your chosen strategy to handle the null values. You can use the `fillna()` function in pandas to fill null values or `dropna()` function to drop null values.\n",
        "\n",
        "Verify that your strategy has successfully handled the null values. You can use the `isnull()` function again to check if there are still null values in the dataset.\n",
        "\n",
        "Remember to document your process and explain your reasoning for choosing a particular strategy for handling null values.\n",
        "\n",
        "After formatting data types, as a last step, convert all the numeric variables to integers."
      ]
    },
    {
      "cell_type": "code",
      "execution_count": 15,
      "id": "f184fc35-7831-4836-a0a5-e7f99e01b40e",
      "metadata": {
        "id": "f184fc35-7831-4836-a0a5-e7f99e01b40e"
      },
      "outputs": [
        {
          "name": "stdout",
          "output_type": "stream",
          "text": [
            "Number of open complaints    0\n",
            "Customer lifetime value      0\n",
            "dtype: int64\n"
          ]
        }
      ],
      "source": [
        "import pandas as pd\n",
        "\n",
        "# Assuming df is your DataFrame\n",
        "null_counts = df.isnull().sum()\n",
        "print(null_counts)\n"
      ]
    },
    {
      "cell_type": "code",
      "execution_count": 16,
      "id": "04ee518c",
      "metadata": {},
      "outputs": [],
      "source": [
        "# Drop rows with any null values\n",
        "df_dropped_rows = df.dropna()\n",
        "\n",
        "# Drop columns with any null values\n",
        "df_dropped_columns = df.dropna(axis=1)\n"
      ]
    },
    {
      "cell_type": "code",
      "execution_count": 17,
      "id": "666597c6",
      "metadata": {},
      "outputs": [],
      "source": [
        "# Fill null values with a specific value (e.g., 0)\n",
        "df_filled = df.fillna(0)\n"
      ]
    },
    {
      "cell_type": "code",
      "execution_count": 19,
      "id": "5353afc3",
      "metadata": {},
      "outputs": [
        {
          "name": "stdout",
          "output_type": "stream",
          "text": [
            "Null values in each column:\n",
            " Customer lifetime value      1\n",
            "Number of open complaints    1\n",
            "Column1                      1\n",
            "Column2                      1\n",
            "dtype: int64\n",
            "\n",
            "DataFrame after dropping rows with null values:\n",
            "    Customer lifetime value Number of open complaints  Column1  Column2\n",
            "0                   1000.0                    1/5/00      1.0      1.1\n",
            "\n",
            "DataFrame after dropping columns with null values:\n",
            " Empty DataFrame\n",
            "Columns: []\n",
            "Index: [0, 1, 2]\n",
            "\n",
            "DataFrame after filling null values with 0:\n",
            "    Customer lifetime value Number of open complaints  Column1  Column2\n",
            "0                   1000.0                    1/5/00      1.0      1.1\n",
            "1                   2000.0                    2/3/01      0.0      2.2\n",
            "2                      0.0                         0      3.0      0.0\n",
            "\n",
            "DataFrame after filling null values in 'Column1' with mean:\n",
            "    Customer lifetime value Number of open complaints  Column1  Column2\n",
            "0                   1000.0                    1/5/00      1.0      1.1\n",
            "1                   2000.0                    2/3/01      2.0      2.2\n",
            "2                      NaN                      None      3.0      NaN\n"
          ]
        }
      ],
      "source": [
        "import pandas as pd\n",
        "\n",
        "# Sample DataFrame\n",
        "data = {\n",
        "    'Customer lifetime value': [1000, 2000, None],\n",
        "    'Number of open complaints': ['1/5/00', '2/3/01', None],\n",
        "    'Column1': [1, None, 3],\n",
        "    'Column2': [1.1, 2.2, None]\n",
        "}\n",
        "\n",
        "df = pd.DataFrame(data)\n",
        "\n",
        "# Identify columns with null values\n",
        "null_counts = df.isnull().sum()\n",
        "print(\"Null values in each column:\\n\", null_counts)\n",
        "\n",
        "# Drop rows with any null values\n",
        "df_dropped_rows = df.dropna()\n",
        "print(\"\\nDataFrame after dropping rows with null values:\\n\", df_dropped_rows)\n",
        "\n",
        "# Drop columns with any null values\n",
        "df_dropped_columns = df.dropna(axis=1)\n",
        "print(\"\\nDataFrame after dropping columns with null values:\\n\", df_dropped_columns)\n",
        "\n",
        "# Fill null values with a specific value (e.g., 0)\n",
        "df_filled = df.fillna(0)\n",
        "print(\"\\nDataFrame after filling null values with 0:\\n\", df_filled)\n",
        "\n",
        "# Fill null values with the mean of the column\n",
        "df['Column1'] = df['Column1'].fillna(df['Column1'].mean())\n",
        "print(\"\\nDataFrame after filling null values in 'Column1' with mean:\\n\", df)\n"
      ]
    },
    {
      "cell_type": "code",
      "execution_count": 20,
      "id": "a670cdf4",
      "metadata": {},
      "outputs": [],
      "source": [
        "import pandas as pd\n",
        "\n",
        "# Sample DataFrame\n",
        "data = {\n",
        "    'Customer lifetime value': [1000, 2000, None],\n",
        "    'Number of open complaints': ['1/5/00', '2/3/01', None],\n",
        "    'Column1': [1, None, 3],\n",
        "    'Column2': [1.1, 2.2, None],\n",
        "    'Column3': ['A', 'B', None]\n",
        "}\n",
        "\n",
        "df = pd.DataFrame(data)\n",
        "\n",
        "# Identify numerical and categorical columns\n",
        "numerical_cols = df.select_dtypes(include=['number']).columns\n",
        "categorical_cols = df.select_dtypes(include=['object']).columns\n"
      ]
    },
    {
      "cell_type": "code",
      "execution_count": 21,
      "id": "ae4ae6b4",
      "metadata": {},
      "outputs": [
        {
          "name": "stdout",
          "output_type": "stream",
          "text": [
            "   Customer lifetime value Number of open complaints  Column1  Column2 Column3\n",
            "0                   1000.0                    1/5/00      1.0     1.10       A\n",
            "1                   2000.0                    2/3/01      2.0     2.20       B\n",
            "2                   1500.0                    1/5/00      3.0     1.65       A\n"
          ]
        }
      ],
      "source": [
        "import pandas as pd\n",
        "\n",
        "# Sample DataFrame\n",
        "data = {\n",
        "    'Customer lifetime value': [1000, 2000, None],\n",
        "    'Number of open complaints': ['1/5/00', '2/3/01', None],\n",
        "    'Column1': [1, None, 3],\n",
        "    'Column2': [1.1, 2.2, None],\n",
        "    'Column3': ['A', 'B', None]\n",
        "}\n",
        "\n",
        "df = pd.DataFrame(data)\n",
        "\n",
        "# Identify numerical and categorical columns\n",
        "numerical_cols = df.select_dtypes(include=['number']).columns\n",
        "categorical_cols = df.select_dtypes(include=['object']).columns\n",
        "\n",
        "# Fill null values in numerical columns with the mean\n",
        "for col in numerical_cols:\n",
        "    df[col].fillna(df[col].mean(), inplace=True)\n",
        "\n",
        "# Fill null values in categorical columns with the mode\n",
        "for col in categorical_cols:\n",
        "    df[col].fillna(df[col].mode()[0], inplace=True)\n",
        "\n",
        "# Verify changes\n",
        "print(df)\n"
      ]
    },
    {
      "cell_type": "code",
      "execution_count": 23,
      "id": "c218ffc4",
      "metadata": {},
      "outputs": [],
      "source": [
        "df.fillna(method='ffill', inplace=True)  # 'ffill' stands for forward fill\n"
      ]
    },
    {
      "cell_type": "code",
      "execution_count": null,
      "id": "4e63611f",
      "metadata": {},
      "outputs": [],
      "source": [
        "df.fillna(method='bfill', inplace=True)  # 'bfill' stands for backward fill\n"
      ]
    },
    {
      "cell_type": "code",
      "execution_count": 25,
      "id": "4482fc4f",
      "metadata": {},
      "outputs": [
        {
          "name": "stdout",
          "output_type": "stream",
          "text": [
            "   Customer lifetime value Number of open complaints  Column1  Column2 Column3\n",
            "0                   1000.0                    1/5/00      1.0      1.1       A\n",
            "1                   2000.0                    2/3/01      1.0      2.2       B\n",
            "2                   2000.0                    2/3/01      3.0      2.2       B\n"
          ]
        }
      ],
      "source": [
        "\n",
        "\n",
        "\n",
        "df = pd.DataFrame(data)\n",
        "\n",
        "# Fill null values with the previous value\n",
        "df.fillna(method='ffill', inplace=True)\n",
        "\n",
        "# Alternatively, fill null values with the next value\n",
        "# df.fillna(method='bfill', inplace=True)\n",
        "\n",
        "# Verify changes\n",
        "print(df)\n"
      ]
    },
    {
      "cell_type": "code",
      "execution_count": 27,
      "id": "ff32456d",
      "metadata": {},
      "outputs": [
        {
          "name": "stdout",
          "output_type": "stream",
          "text": [
            "   Customer lifetime value  Number of open complaints    Column1   Column2  \\\n",
            "0              1000.000000                   5.000000   1.000000  1.100000   \n",
            "1              2000.000000                   3.000000  10.590859  2.200000   \n",
            "2              1208.525904                   4.582948   3.000000  1.329378   \n",
            "\n",
            "   Column3  \n",
            "0      0.0  \n",
            "1      1.0  \n",
            "2     -1.0  \n"
          ]
        },
        {
          "name": "stderr",
          "output_type": "stream",
          "text": [
            "c:\\Users\\User\\anaconda3\\anaconda 4\\lib\\site-packages\\sklearn\\impute\\_iterative.py:699: ConvergenceWarning: [IterativeImputer] Early stopping criterion not reached.\n",
            "  warnings.warn(\n"
          ]
        }
      ],
      "source": [
        "from sklearn.experimental import enable_iterative_imputer\n",
        "from sklearn.impute import IterativeImputer\n",
        "\n",
        "# Initialize IterativeImputer\n",
        "imputer = IterativeImputer()\n",
        "\n",
        "# Impute missing values\n",
        "df_imputed = pd.DataFrame(imputer.fit_transform(df), columns=df.columns)\n",
        "\n",
        "print(df_imputed)\n"
      ]
    },
    {
      "cell_type": "code",
      "execution_count": 30,
      "id": "eb0f479a",
      "metadata": {},
      "outputs": [
        {
          "name": "stdout",
          "output_type": "stream",
          "text": [
            "customer                      object\n",
            "st                            object\n",
            "gender                        object\n",
            "education                     object\n",
            "customer_lifetime_value      float64\n",
            "income                       float64\n",
            "monthly_premium_auto         float64\n",
            "number_of_open_complaints      int64\n",
            "policy_type                   object\n",
            "vehicle_class                 object\n",
            "total_claim_amount           float64\n",
            "dtype: object\n",
            "  customer          st gender             education  customer_lifetime_value  \\\n",
            "0  RB50392  Washington      F                Master              8218.976475   \n",
            "1  QZ44356     Arizona      F              Bachelor              6979.535900   \n",
            "2  AI49188      Nevada      F              Bachelor             12887.431700   \n",
            "3  WW63253  California      M              Bachelor              7645.861800   \n",
            "4  GA49547  Washington      M  High School or Below              5363.076500   \n",
            "\n",
            "    income  monthly_premium_auto  number_of_open_complaints     policy_type  \\\n",
            "0      0.0                1000.0                          0   Personal Auto   \n",
            "1      0.0                  94.0                          0   Personal Auto   \n",
            "2  48767.0                 108.0                          0   Personal Auto   \n",
            "3      0.0                 106.0                          0  Corporate Auto   \n",
            "4  36357.0                  68.0                          0   Personal Auto   \n",
            "\n",
            "   vehicle_class  total_claim_amount  \n",
            "0  Four-Door Car            2.704934  \n",
            "1  Four-Door Car         1131.464935  \n",
            "2   Two-Door Car          566.472247  \n",
            "3            SUV          529.881344  \n",
            "4  Four-Door Car           17.269323  \n"
          ]
        }
      ],
      "source": [
        "import pandas as pd\n",
        "\n",
        "# Sample DataFrame\n",
        "data = {\n",
        "    'Customer': ['RB50392', 'QZ44356', 'AI49188', 'WW63253', 'GA49547'],\n",
        "    'ST': ['Washington', 'Arizona', 'Nevada', 'California', 'Washington'],\n",
        "    'GENDER': [None, 'F', 'F', 'M', 'M'],\n",
        "    'Education': ['Master', 'Bachelor', 'Bachelor', 'Bachelor', 'High School or Below'],\n",
        "    'Customer Lifetime Value': [None, '697953.59%', '1288743.17%', '764586.18%', '536307.65%'],\n",
        "    'Income': [0.0, 0.0, 48767.0, 0.0, 36357.0],\n",
        "    'Monthly Premium Auto': [1000.0, 94.0, 108.0, 106.0, 68.0],\n",
        "    'Number of Open Complaints': ['1/0/00', '1/0/00', '1/0/00', '1/0/00', '1/0/00'],\n",
        "    'Policy Type': ['Personal Auto', 'Personal Auto', 'Personal Auto', 'Corporate Auto', 'Personal Auto'],\n",
        "    'Vehicle Class': ['Four-Door Car', 'Four-Door Car', 'Two-Door Car', 'SUV', 'Four-Door Car'],\n",
        "    'Total Claim Amount': [2.704934, 1131.464935, 566.472247, 529.881344, 17.269323]\n",
        "}\n",
        "\n",
        "df = pd.DataFrame(data)\n",
        "\n",
        "# Standardize column names\n",
        "df.columns = df.columns.str.lower().str.replace(' ', '_')\n",
        "\n",
        "# Correct data types\n",
        "df['customer_lifetime_value'] = df['customer_lifetime_value'].str.rstrip('%').astype('float') / 100\n",
        "df['number_of_open_complaints'] = df['number_of_open_complaints'].apply(lambda x: int(x.split('/')[1]) if pd.notnull(x) else x)\n",
        "\n",
        "# Handle null values\n",
        "df['gender'].fillna(df['gender'].mode()[0], inplace=True)\n",
        "df['customer_lifetime_value'].fillna(df['customer_lifetime_value'].mean(), inplace=True)\n",
        "\n",
        "# Verify changes\n",
        "print(df.dtypes)\n",
        "print(df)\n"
      ]
    },
    {
      "cell_type": "markdown",
      "id": "98416351-e999-4156-9834-9b00a311adfa",
      "metadata": {
        "id": "98416351-e999-4156-9834-9b00a311adfa"
      },
      "source": [
        "## Exercise 5: Dealing with duplicates"
      ]
    },
    {
      "cell_type": "markdown",
      "id": "ea0816a7-a18e-4d4c-b667-a8452a800bd1",
      "metadata": {
        "id": "ea0816a7-a18e-4d4c-b667-a8452a800bd1"
      },
      "source": [
        "Use the `.duplicated()` method to identify any duplicate rows in the dataframe.\n",
        "\n",
        "Decide on a strategy for handling the duplicates. Options include:\n",
        "- Dropping all duplicate rows\n",
        "- Keeping only the first occurrence of each duplicated row\n",
        "- Keeping only the last occurrence of each duplicated row\n",
        "- Dropping duplicates based on a subset of columns\n",
        "- Dropping duplicates based on a specific column\n",
        "\n",
        "Implement your chosen strategy using the `drop_duplicates()` function.\n",
        "\n",
        "Verify that your strategy has successfully handled the duplicates by checking for duplicates again using `.duplicated()`.\n",
        "\n",
        "Remember to document your process and explain your reasoning for choosing a particular strategy for handling duplicates.\n",
        "\n",
        "Save the cleaned dataset to a new CSV file.\n",
        "\n",
        "*Hint*: *after dropping duplicates, reset the index to ensure consistency*."
      ]
    },
    {
      "cell_type": "code",
      "execution_count": 31,
      "id": "1929362c-47ed-47cb-baca-358b78d401a0",
      "metadata": {
        "id": "1929362c-47ed-47cb-baca-358b78d401a0"
      },
      "outputs": [
        {
          "name": "stdout",
          "output_type": "stream",
          "text": [
            "Duplicate Rows:\n",
            "   Customer       ST GENDER Education Customer Lifetime Value  Income  \\\n",
            "5  QZ44356  Arizona      F  Bachelor              697953.59%     0.0   \n",
            "\n",
            "   Monthly Premium Auto Number of Open Complaints    Policy Type  \\\n",
            "5                  94.0                    1/0/00  Personal Auto   \n",
            "\n",
            "   Vehicle Class  Total Claim Amount  \n",
            "5  Four-Door Car         1131.464935  \n",
            "\n",
            "DataFrame after dropping duplicates:\n",
            "   Customer          ST GENDER             Education Customer Lifetime Value  \\\n",
            "0  RB50392  Washington   None                Master                    None   \n",
            "1  QZ44356     Arizona      F              Bachelor              697953.59%   \n",
            "2  AI49188      Nevada      F              Bachelor             1288743.17%   \n",
            "3  WW63253  California      M              Bachelor              764586.18%   \n",
            "4  GA49547  Washington      M  High School or Below              536307.65%   \n",
            "\n",
            "    Income  Monthly Premium Auto Number of Open Complaints     Policy Type  \\\n",
            "0      0.0                1000.0                    1/0/00   Personal Auto   \n",
            "1      0.0                  94.0                    1/0/00   Personal Auto   \n",
            "2  48767.0                 108.0                    1/0/00   Personal Auto   \n",
            "3      0.0                 106.0                    1/0/00  Corporate Auto   \n",
            "4  36357.0                  68.0                    1/0/00   Personal Auto   \n",
            "\n",
            "   Vehicle Class  Total Claim Amount  \n",
            "0  Four-Door Car            2.704934  \n",
            "1  Four-Door Car         1131.464935  \n",
            "2   Two-Door Car          566.472247  \n",
            "3            SUV          529.881344  \n",
            "4  Four-Door Car           17.269323  \n"
          ]
        }
      ],
      "source": [
        "import pandas as pd\n",
        "\n",
        "# Sample DataFrame\n",
        "data = {\n",
        "    'Customer': ['RB50392', 'QZ44356', 'AI49188', 'WW63253', 'GA49547', 'QZ44356'],\n",
        "    'ST': ['Washington', 'Arizona', 'Nevada', 'California', 'Washington', 'Arizona'],\n",
        "    'GENDER': [None, 'F', 'F', 'M', 'M', 'F'],\n",
        "    'Education': ['Master', 'Bachelor', 'Bachelor', 'Bachelor', 'High School or Below', 'Bachelor'],\n",
        "    'Customer Lifetime Value': [None, '697953.59%', '1288743.17%', '764586.18%', '536307.65%', '697953.59%'],\n",
        "    'Income': [0.0, 0.0, 48767.0, 0.0, 36357.0, 0.0],\n",
        "    'Monthly Premium Auto': [1000.0, 94.0, 108.0, 106.0, 68.0, 94.0],\n",
        "    'Number of Open Complaints': ['1/0/00', '1/0/00', '1/0/00', '1/0/00', '1/0/00', '1/0/00'],\n",
        "    'Policy Type': ['Personal Auto', 'Personal Auto', 'Personal Auto', 'Corporate Auto', 'Personal Auto', 'Personal Auto'],\n",
        "    'Vehicle Class': ['Four-Door Car', 'Four-Door Car', 'Two-Door Car', 'SUV', 'Four-Door Car', 'Four-Door Car'],\n",
        "    'Total Claim Amount': [2.704934, 1131.464935, 566.472247, 529.881344, 17.269323, 1131.464935]\n",
        "}\n",
        "\n",
        "df = pd.DataFrame(data)\n",
        "\n",
        "# Identify duplicate rows\n",
        "duplicates = df[df.duplicated()]\n",
        "print(\"Duplicate Rows:\\n\", duplicates)\n",
        "\n",
        "# Drop duplicate rows\n",
        "df_cleaned = df.drop_duplicates()\n",
        "print(\"\\nDataFrame after dropping duplicates:\\n\", df_cleaned)\n"
      ]
    },
    {
      "cell_type": "code",
      "execution_count": 32,
      "id": "3ccf10ff",
      "metadata": {},
      "outputs": [
        {
          "name": "stdout",
          "output_type": "stream",
          "text": [
            "Duplicates after keeping first occurrence:\n",
            " 0\n",
            "\n",
            "DataFrame after resetting index:\n",
            "   Customer          ST GENDER             Education Customer Lifetime Value  \\\n",
            "0  RB50392  Washington   None                Master                    None   \n",
            "1  QZ44356     Arizona      F              Bachelor              697953.59%   \n",
            "2  AI49188      Nevada      F              Bachelor             1288743.17%   \n",
            "3  WW63253  California      M              Bachelor              764586.18%   \n",
            "4  GA49547  Washington      M  High School or Below              536307.65%   \n",
            "\n",
            "    Income  Monthly Premium Auto Number of Open Complaints     Policy Type  \\\n",
            "0      0.0                1000.0                    1/0/00   Personal Auto   \n",
            "1      0.0                  94.0                    1/0/00   Personal Auto   \n",
            "2  48767.0                 108.0                    1/0/00   Personal Auto   \n",
            "3      0.0                 106.0                    1/0/00  Corporate Auto   \n",
            "4  36357.0                  68.0                    1/0/00   Personal Auto   \n",
            "\n",
            "   Vehicle Class  Total Claim Amount  \n",
            "0  Four-Door Car            2.704934  \n",
            "1  Four-Door Car         1131.464935  \n",
            "2   Two-Door Car          566.472247  \n",
            "3            SUV          529.881344  \n",
            "4  Four-Door Car           17.269323  \n"
          ]
        }
      ],
      "source": [
        "\n",
        "\n",
        "# Drop duplicates, keeping only the first occurrence\n",
        "df_first = df.drop_duplicates()\n",
        "\n",
        "# Verify no duplicates remain\n",
        "print(\"Duplicates after keeping first occurrence:\\n\", df_first.duplicated().sum())\n",
        "\n",
        "# Reset index\n",
        "df_first.reset_index(drop=True, inplace=True)\n",
        "print(\"\\nDataFrame after resetting index:\\n\", df_first)\n"
      ]
    },
    {
      "cell_type": "code",
      "execution_count": 33,
      "id": "890cba4b",
      "metadata": {},
      "outputs": [
        {
          "name": "stdout",
          "output_type": "stream",
          "text": [
            "Duplicates after keeping last occurrence:\n",
            " 0\n",
            "\n",
            "DataFrame after resetting index:\n",
            "   Customer          ST GENDER             Education Customer Lifetime Value  \\\n",
            "0  RB50392  Washington   None                Master                    None   \n",
            "1  AI49188      Nevada      F              Bachelor             1288743.17%   \n",
            "2  WW63253  California      M              Bachelor              764586.18%   \n",
            "3  GA49547  Washington      M  High School or Below              536307.65%   \n",
            "4  QZ44356     Arizona      F              Bachelor              697953.59%   \n",
            "\n",
            "    Income  Monthly Premium Auto Number of Open Complaints     Policy Type  \\\n",
            "0      0.0                1000.0                    1/0/00   Personal Auto   \n",
            "1  48767.0                 108.0                    1/0/00   Personal Auto   \n",
            "2      0.0                 106.0                    1/0/00  Corporate Auto   \n",
            "3  36357.0                  68.0                    1/0/00   Personal Auto   \n",
            "4      0.0                  94.0                    1/0/00   Personal Auto   \n",
            "\n",
            "   Vehicle Class  Total Claim Amount  \n",
            "0  Four-Door Car            2.704934  \n",
            "1   Two-Door Car          566.472247  \n",
            "2            SUV          529.881344  \n",
            "3  Four-Door Car           17.269323  \n",
            "4  Four-Door Car         1131.464935  \n"
          ]
        }
      ],
      "source": [
        "# Drop duplicates, keeping only the last occurrence\n",
        "df_last = df.drop_duplicates(keep='last')\n",
        "\n",
        "# Verify no duplicates remain\n",
        "print(\"Duplicates after keeping last occurrence:\\n\", df_last.duplicated().sum())\n",
        "\n",
        "# Reset index\n",
        "df_last.reset_index(drop=True, inplace=True)\n",
        "print(\"\\nDataFrame after resetting index:\\n\", df_last)\n"
      ]
    },
    {
      "cell_type": "code",
      "execution_count": 34,
      "id": "b8aa2fa6",
      "metadata": {},
      "outputs": [
        {
          "name": "stdout",
          "output_type": "stream",
          "text": [
            "Duplicates after dropping based on subset:\n",
            " 0\n",
            "\n",
            "DataFrame after resetting index:\n",
            "   Customer          ST GENDER             Education Customer Lifetime Value  \\\n",
            "0  RB50392  Washington   None                Master                    None   \n",
            "1  QZ44356     Arizona      F              Bachelor              697953.59%   \n",
            "2  AI49188      Nevada      F              Bachelor             1288743.17%   \n",
            "3  WW63253  California      M              Bachelor              764586.18%   \n",
            "4  GA49547  Washington      M  High School or Below              536307.65%   \n",
            "\n",
            "    Income  Monthly Premium Auto Number of Open Complaints     Policy Type  \\\n",
            "0      0.0                1000.0                    1/0/00   Personal Auto   \n",
            "1      0.0                  94.0                    1/0/00   Personal Auto   \n",
            "2  48767.0                 108.0                    1/0/00   Personal Auto   \n",
            "3      0.0                 106.0                    1/0/00  Corporate Auto   \n",
            "4  36357.0                  68.0                    1/0/00   Personal Auto   \n",
            "\n",
            "   Vehicle Class  Total Claim Amount  \n",
            "0  Four-Door Car            2.704934  \n",
            "1  Four-Door Car         1131.464935  \n",
            "2   Two-Door Car          566.472247  \n",
            "3            SUV          529.881344  \n",
            "4  Four-Door Car           17.269323  \n"
          ]
        }
      ],
      "source": [
        "# Drop duplicates based on a subset of columns\n",
        "df_subset = df.drop_duplicates(subset=['Customer', 'ST'])\n",
        "\n",
        "# Verify no duplicates remain\n",
        "print(\"Duplicates after dropping based on subset:\\n\", df_subset.duplicated(subset=['Customer', 'ST']).sum())\n",
        "\n",
        "# Reset index\n",
        "df_subset.reset_index(drop=True, inplace=True)\n",
        "print(\"\\nDataFrame after resetting index:\\n\", df_subset)\n"
      ]
    },
    {
      "cell_type": "code",
      "execution_count": 35,
      "id": "05afc33b",
      "metadata": {},
      "outputs": [
        {
          "name": "stdout",
          "output_type": "stream",
          "text": [
            "Duplicates after dropping based on specific column:\n",
            " 0\n",
            "\n",
            "DataFrame after resetting index:\n",
            "   Customer          ST GENDER             Education Customer Lifetime Value  \\\n",
            "0  RB50392  Washington   None                Master                    None   \n",
            "1  QZ44356     Arizona      F              Bachelor              697953.59%   \n",
            "2  AI49188      Nevada      F              Bachelor             1288743.17%   \n",
            "3  WW63253  California      M              Bachelor              764586.18%   \n",
            "4  GA49547  Washington      M  High School or Below              536307.65%   \n",
            "\n",
            "    Income  Monthly Premium Auto Number of Open Complaints     Policy Type  \\\n",
            "0      0.0                1000.0                    1/0/00   Personal Auto   \n",
            "1      0.0                  94.0                    1/0/00   Personal Auto   \n",
            "2  48767.0                 108.0                    1/0/00   Personal Auto   \n",
            "3      0.0                 106.0                    1/0/00  Corporate Auto   \n",
            "4  36357.0                  68.0                    1/0/00   Personal Auto   \n",
            "\n",
            "   Vehicle Class  Total Claim Amount  \n",
            "0  Four-Door Car            2.704934  \n",
            "1  Four-Door Car         1131.464935  \n",
            "2   Two-Door Car          566.472247  \n",
            "3            SUV          529.881344  \n",
            "4  Four-Door Car           17.269323  \n"
          ]
        }
      ],
      "source": [
        "# Drop duplicates based on a specific column\n",
        "df_column = df.drop_duplicates(subset=['Customer'])\n",
        "\n",
        "# Verify no duplicates remain\n",
        "print(\"Duplicates after dropping based on specific column:\\n\", df_column.duplicated(subset=['Customer']).sum())\n",
        "\n",
        "# Reset index\n",
        "df_column.reset_index(drop=True, inplace=True)\n",
        "print(\"\\nDataFrame after resetting index:\\n\", df_column)\n"
      ]
    },
    {
      "cell_type": "code",
      "execution_count": 36,
      "id": "91b74d75",
      "metadata": {},
      "outputs": [],
      "source": [
        "# Save the cleaned DataFrame to a new CSV file\n",
        "df_first.to_csv('cleaned_dataset.csv', index=False)\n"
      ]
    },
    {
      "cell_type": "code",
      "execution_count": null,
      "id": "901969dc",
      "metadata": {},
      "outputs": [],
      "source": []
    },
    {
      "cell_type": "markdown",
      "id": "60840701-4783-40e2-b4d8-55303f9100c9",
      "metadata": {
        "id": "60840701-4783-40e2-b4d8-55303f9100c9"
      },
      "source": [
        "# Bonus: Challenge 2: creating functions on a separate `py` file"
      ]
    },
    {
      "cell_type": "markdown",
      "id": "9d1adb3a-17cf-4899-8041-da21a4337fb4",
      "metadata": {
        "id": "9d1adb3a-17cf-4899-8041-da21a4337fb4"
      },
      "source": [
        "Put all the data cleaning and formatting steps into functions, and create a main function that performs all the cleaning and formatting.\n",
        "\n",
        "Write these functions in separate .py file(s). By putting these steps into functions, we can make the code more modular and easier to maintain."
      ]
    },
    {
      "cell_type": "markdown",
      "id": "0e170dc2-b62c-417a-8248-e63ed18a70c4",
      "metadata": {
        "id": "0e170dc2-b62c-417a-8248-e63ed18a70c4"
      },
      "source": [
        "*Hint: autoreload module is a utility module in Python that allows you to automatically reload modules in the current session when changes are made to the source code. This can be useful in situations where you are actively developing code and want to see the effects of changes you make without having to constantly restart the Python interpreter or Jupyter Notebook kernel.*"
      ]
    },
    {
      "cell_type": "code",
      "execution_count": 37,
      "id": "a52c6dfc-cd11-4d01-bda4-f719fa33e9a4",
      "metadata": {
        "id": "a52c6dfc-cd11-4d01-bda4-f719fa33e9a4"
      },
      "outputs": [
        {
          "name": "stdout",
          "output_type": "stream",
          "text": [
            "Data cleaning complete. Cleaned dataset saved to 'cleaned_dataset.csv'.\n"
          ]
        }
      ],
      "source": [
        "\n",
        "# data_cleaning.py\n",
        "\n",
        "import pandas as pd\n",
        "from sklearn.impute import KNNImputer\n",
        "\n",
        "def standardize_column_names(df):\n",
        "    df.columns = df.columns.str.lower().str.replace(' ', '_')\n",
        "    return df\n",
        "\n",
        "def correct_data_types(df):\n",
        "    df['customer_lifetime_value'] = df['customer_lifetime_value'].str.rstrip('%').astype('float') / 100\n",
        "    df['number_of_open_complaints'] = df['number_of_open_complaints'].apply(lambda x: int(x.split('/')[1]) if pd.notnull(x) else x)\n",
        "    return df\n",
        "\n",
        "def fill_null_values(df):\n",
        "    # Fill null values in numerical columns with the mean\n",
        "    numerical_cols = df.select_dtypes(include=['number']).columns\n",
        "    for col in numerical_cols:\n",
        "        df[col].fillna(df[col].mean(), inplace=True)\n",
        "    \n",
        "    # Fill null values in categorical columns with the mode\n",
        "    categorical_cols = df.select_dtypes(include=['object']).columns\n",
        "    for col in categorical_cols:\n",
        "        df[col].fillna(df[col].mode()[0], inplace=True)\n",
        "    \n",
        "    return df\n",
        "\n",
        "def handle_duplicates(df, strategy='first'):\n",
        "    if strategy == 'first':\n",
        "        df = df.drop_duplicates()\n",
        "    elif strategy == 'last':\n",
        "        df = df.drop_duplicates(keep='last')\n",
        "    elif strategy == 'subset':\n",
        "        df = df.drop_duplicates(subset=['customer', 'st'])\n",
        "    elif strategy == 'column':\n",
        "        df = df.drop_duplicates(subset=['customer'])\n",
        "    \n",
        "    df.reset_index(drop=True, inplace=True)\n",
        "    return df\n",
        "\n",
        "def main():\n",
        "    # Sample DataFrame\n",
        "    data = {\n",
        "        'Customer': ['RB50392', 'QZ44356', 'AI49188', 'WW63253', 'GA49547', 'QZ44356'],\n",
        "        'ST': ['Washington', 'Arizona', 'Nevada', 'California', 'Washington', 'Arizona'],\n",
        "        'GENDER': [None, 'F', 'F', 'M', 'M', 'F'],\n",
        "        'Education': ['Master', 'Bachelor', 'Bachelor', 'Bachelor', 'High School or Below', 'Bachelor'],\n",
        "        'Customer Lifetime Value': [None, '697953.59%', '1288743.17%', '764586.18%', '536307.65%', '697953.59%'],\n",
        "        'Income': [0.0, 0.0, 48767.0, 0.0, 36357.0, 0.0],\n",
        "        'Monthly Premium Auto': [1000.0, 94.0, 108.0, 106.0, 68.0, 94.0],\n",
        "        'Number of Open Complaints': ['1/0/00', '1/0/00', '1/0/00', '1/0/00', '1/0/00', '1/0/00'],\n",
        "        'Policy Type': ['Personal Auto', 'Personal Auto', 'Personal Auto', 'Corporate Auto', 'Personal Auto', 'Personal Auto'],\n",
        "        'Vehicle Class': ['Four-Door Car', 'Four-Door Car', 'Two-Door Car', 'SUV', 'Four-Door Car', 'Four-Door Car'],\n",
        "        'Total Claim Amount': [2.704934, 1131.464935, 566.472247, 529.881344, 17.269323, 1131.464935]\n",
        "    }\n",
        "\n",
        "    df = pd.DataFrame(data)\n",
        "\n",
        "    # Apply data cleaning functions\n",
        "    df = standardize_column_names(df)\n",
        "    df = correct_data_types(df)\n",
        "    df = fill_null_values(df)\n",
        "    df = handle_duplicates(df, strategy='first')\n",
        "\n",
        "    # Save the cleaned DataFrame to a new CSV file\n",
        "    df.to_csv('cleaned_dataset.csv', index=False)\n",
        "    print(\"Data cleaning complete. Cleaned dataset saved to 'cleaned_dataset.csv'.\")\n",
        "\n",
        "if __name__ == \"__main__\":\n",
        "    main()\n"
      ]
    },
    {
      "cell_type": "markdown",
      "id": "80f846bb-3f5e-4ca2-96c0-900728daca5a",
      "metadata": {
        "id": "80f846bb-3f5e-4ca2-96c0-900728daca5a",
        "tags": []
      },
      "source": [
        "# Bonus: Challenge 3: Analyzing Clean and Formated Data"
      ]
    },
    {
      "cell_type": "markdown",
      "id": "9021630e-cc90-446c-b5bd-264d6c864207",
      "metadata": {
        "id": "9021630e-cc90-446c-b5bd-264d6c864207"
      },
      "source": [
        "You have been tasked with analyzing the data to identify potential areas for improving customer retention and profitability. Your goal is to identify customers with a high policy claim amount and a low customer lifetime value.\n",
        "\n",
        "In the Pandas Lab, we only looked at high policy claim amounts because we couldn't look into low customer lifetime values. If we had tried to work with that column, we wouldn't have been able to because customer lifetime value wasn't clean and in its proper format. So after cleaning and formatting the data, let's get some more interesting insights!\n",
        "\n",
        "Instructions:\n",
        "\n",
        "- Review the statistics again for total claim amount and customer lifetime value to gain an understanding of the data.\n",
        "- To identify potential areas for improving customer retention and profitability, we want to focus on customers with a high policy claim amount and a low customer lifetime value. Consider customers with a high policy claim amount to be those in the top 25% of the total claim amount, and clients with a low customer lifetime value to be those in the bottom 25% of the customer lifetime value. Create a pandas DataFrame object that contains information about customers with a policy claim amount greater than the 75th percentile and a customer lifetime value in the bottom 25th percentile.\n",
        "- Use DataFrame methods to calculate summary statistics about the high policy claim amount and low customer lifetime value data. To do so, select both columns of the dataframe simultaneously and pass it to the `.describe()` method. This will give you descriptive statistics, such as mean, median, standard deviation, minimum and maximum values for both columns at the same time, allowing you to compare and analyze their characteristics."
      ]
    },
    {
      "cell_type": "code",
      "execution_count": 39,
      "id": "df745017",
      "metadata": {},
      "outputs": [
        {
          "name": "stdout",
          "output_type": "stream",
          "text": [
            "Filtered DataFrame:\n",
            " Empty DataFrame\n",
            "Columns: [customer, st, gender, education, customer_lifetime_value, income, monthly_premium_auto, number_of_open_complaints, policy_type, vehicle_class, total_claim_amount]\n",
            "Index: []\n",
            "\n",
            "Summary Statistics:\n",
            "        total_claim_amount  customer_lifetime_value\n",
            "count                 0.0                      0.0\n",
            "mean                  NaN                      NaN\n",
            "std                   NaN                      NaN\n",
            "min                   NaN                      NaN\n",
            "25%                   NaN                      NaN\n",
            "50%                   NaN                      NaN\n",
            "75%                   NaN                      NaN\n",
            "max                   NaN                      NaN\n",
            "Data cleaning complete. Cleaned dataset saved to 'cleaned_dataset.csv'.\n"
          ]
        }
      ],
      "source": [
        "# data_cleaning.py\n",
        "\n",
        "import pandas as pd\n",
        "from sklearn.impute import KNNImputer\n",
        "\n",
        "def standardize_column_names(df):\n",
        "    df.columns = df.columns.str.lower().str.replace(' ', '_')\n",
        "    return df\n",
        "\n",
        "def correct_data_types(df):\n",
        "    df['customer_lifetime_value'] = df['customer_lifetime_value'].str.rstrip('%').astype('float') / 100\n",
        "    df['number_of_open_complaints'] = df['number_of_open_complaints'].apply(lambda x: int(x.split('/')[1]) if pd.notnull(x) else x)\n",
        "    return df\n",
        "\n",
        "def fill_null_values(df):\n",
        "    # Fill null values in numerical columns with the mean\n",
        "    numerical_cols = df.select_dtypes(include=['number']).columns\n",
        "    for col in numerical_cols:\n",
        "        df[col].fillna(df[col].mean(), inplace=True)\n",
        "    \n",
        "    # Fill null values in categorical columns with the mode\n",
        "    categorical_cols = df.select_dtypes(include=['object']).columns\n",
        "    for col in categorical_cols:\n",
        "        df[col].fillna(df[col].mode()[0], inplace=True)\n",
        "    \n",
        "    return df\n",
        "\n",
        "def handle_duplicates(df, strategy='first'):\n",
        "    if strategy == 'first':\n",
        "        df = df.drop_duplicates()\n",
        "    elif strategy == 'last':\n",
        "        df = df.drop_duplicates(keep='last')\n",
        "    elif strategy == 'subset':\n",
        "        df = df.drop_duplicates(subset=['customer', 'st'])\n",
        "    elif strategy == 'column':\n",
        "        df = df.drop_duplicates(subset=['customer'])\n",
        "    \n",
        "    df.reset_index(drop=True, inplace=True)\n",
        "    return df\n",
        "\n",
        "def analyze_data(df):\n",
        "    # Calculate percentiles\n",
        "    total_claim_75th = df['total_claim_amount'].quantile(0.75)\n",
        "    clv_25th = df['customer_lifetime_value'].quantile(0.25)\n",
        "    \n",
        "    # Filter data\n",
        "    filtered_df = df[(df['total_claim_amount'] > total_claim_75th) & (df['customer_lifetime_value'] < clv_25th)]\n",
        "    \n",
        "    # Calculate summary statistics\n",
        "    summary_stats = filtered_df[['total_claim_amount', 'customer_lifetime_value']].describe()\n",
        "    return filtered_df, summary_stats\n",
        "\n",
        "def main():\n",
        "    # Sample DataFrame\n",
        "    data = {\n",
        "        'Customer': ['RB50392', 'QZ44356', 'AI49188', 'WW63253', 'GA49547', 'QZ44356'],\n",
        "        'ST': ['Washington', 'Arizona', 'Nevada', 'California', 'Washington', 'Arizona'],\n",
        "        'GENDER': [None, 'F', 'F', 'M', 'M', 'F'],\n",
        "        'Education': ['Master', 'Bachelor', 'Bachelor', 'Bachelor', 'High School or Below', 'Bachelor'],\n",
        "        'Customer Lifetime Value': [None, '697953.59%', '1288743.17%', '764586.18%', '536307.65%', '697953.59%'],\n",
        "        'Income': [0.0, 0.0, 48767.0, 0.0, 36357.0, 0.0],\n",
        "        'Monthly Premium Auto': [1000.0, 94.0, 108.0, 106.0, 68.0, 94.0],\n",
        "        'Number of Open Complaints': ['1/0/00', '1/0/00', '1/0/00', '1/0/00', '1/0/00', '1/0/00'],\n",
        "        'Policy Type': ['Personal Auto', 'Personal Auto', 'Personal Auto', 'Corporate Auto', 'Personal Auto', 'Personal Auto'],\n",
        "        'Vehicle Class': ['Four-Door Car', 'Four-Door Car', 'Two-Door Car', 'SUV', 'Four-Door Car', 'Four-Door Car'],\n",
        "        'Total Claim Amount': [2.704934, 1131.464935, 566.472247, 529.881344, 17.269323, 1131.464935]\n",
        "    }\n",
        "\n",
        "    df = pd.DataFrame(data)\n",
        "\n",
        "    # Apply data cleaning functions\n",
        "    df = standardize_column_names(df)\n",
        "    df = correct_data_types(df)\n",
        "    df = fill_null_values(df)\n",
        "    df = handle_duplicates(df, strategy='first')\n",
        "\n",
        "    # Analyze data\n",
        "    filtered_df, summary_stats = analyze_data(df)\n",
        "    print(\"Filtered DataFrame:\\n\", filtered_df)\n",
        "    print(\"\\nSummary Statistics:\\n\", summary_stats)\n",
        "\n",
        "    # Save the cleaned DataFrame to a new CSV file\n",
        "    df.to_csv('cleaned_dataset.csv', index=False)\n",
        "    print(\"Data cleaning complete. Cleaned dataset saved to 'cleaned_dataset.csv'.\")\n",
        "\n",
        "if __name__ == \"__main__\":\n",
        "    main()\n"
      ]
    }
  ],
  "metadata": {
    "colab": {
      "provenance": []
    },
    "kernelspec": {
      "display_name": "Python 3 (ipykernel)",
      "language": "python",
      "name": "python3"
    },
    "language_info": {
      "codemirror_mode": {
        "name": "ipython",
        "version": 3
      },
      "file_extension": ".py",
      "mimetype": "text/x-python",
      "name": "python",
      "nbconvert_exporter": "python",
      "pygments_lexer": "ipython3",
      "version": "3.9.13"
    }
  },
  "nbformat": 4,
  "nbformat_minor": 5
}
